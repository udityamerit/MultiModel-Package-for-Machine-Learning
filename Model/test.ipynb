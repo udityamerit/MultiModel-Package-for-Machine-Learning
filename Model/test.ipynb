{
 "cells": [
  {
   "cell_type": "code",
   "execution_count": 1,
   "id": "5ad7738c",
   "metadata": {},
   "outputs": [],
   "source": [
    "from process import X_y\n",
    "X,y = X_y()"
   ]
  },
  {
   "cell_type": "code",
   "execution_count": 2,
   "id": "eed0de19",
   "metadata": {},
   "outputs": [
    {
     "name": "stdout",
     "output_type": "stream",
     "text": [
      "Regression model:\n",
      "               precision    recall  f1-score   support\n",
      "\n",
      "           0       0.80      0.79      0.80       151\n",
      "           1       0.62      0.62      0.62        80\n",
      "\n",
      "    accuracy                           0.74       231\n",
      "   macro avg       0.71      0.71      0.71       231\n",
      "weighted avg       0.74      0.74      0.74       231\n",
      "\n",
      "Support vector model:\n",
      "               precision    recall  f1-score   support\n",
      "\n",
      "           0       0.80      0.81      0.81       151\n",
      "           1       0.64      0.62      0.63        80\n",
      "\n",
      "    accuracy                           0.75       231\n",
      "   macro avg       0.72      0.72      0.72       231\n",
      "weighted avg       0.75      0.75      0.75       231\n",
      "\n",
      "Decision Tree model:\n",
      "               precision    recall  f1-score   support\n",
      "\n",
      "           0       0.82      0.74      0.78       151\n",
      "           1       0.58      0.70      0.64        80\n",
      "\n",
      "    accuracy                           0.72       231\n",
      "   macro avg       0.70      0.72      0.71       231\n",
      "weighted avg       0.74      0.72      0.73       231\n",
      "\n",
      "KNN model:\n",
      "               precision    recall  f1-score   support\n",
      "\n",
      "           0       0.74      0.83      0.78       151\n",
      "           1       0.58      0.45      0.51        80\n",
      "\n",
      "    accuracy                           0.70       231\n",
      "   macro avg       0.66      0.64      0.64       231\n",
      "weighted avg       0.68      0.70      0.69       231\n",
      "\n"
     ]
    }
   ],
   "source": [
    "from multi_model import run_all_model\n",
    "run_all_model(X, y)"
   ]
  }
 ],
 "metadata": {
  "kernelspec": {
   "display_name": "Python 3",
   "language": "python",
   "name": "python3"
  },
  "language_info": {
   "codemirror_mode": {
    "name": "ipython",
    "version": 3
   },
   "file_extension": ".py",
   "mimetype": "text/x-python",
   "name": "python",
   "nbconvert_exporter": "python",
   "pygments_lexer": "ipython3",
   "version": "3.12.0"
  }
 },
 "nbformat": 4,
 "nbformat_minor": 5
}
